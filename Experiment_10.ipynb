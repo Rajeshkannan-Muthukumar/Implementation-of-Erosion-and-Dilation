{
 "cells": [
  {
   "cell_type": "code",
   "execution_count": 44,
   "id": "7344439b",
   "metadata": {},
   "outputs": [],
   "source": [
    "## Erosion in Gray scale text"
   ]
  },
  {
   "cell_type": "code",
   "execution_count": 110,
   "id": "eb0c4b6c",
   "metadata": {},
   "outputs": [],
   "source": [
    "import cv2\n",
    "import numpy as np"
   ]
  },
  {
   "cell_type": "code",
   "execution_count": 111,
   "id": "425cc5cc",
   "metadata": {},
   "outputs": [],
   "source": [
    "img= np.zeros((350,1400),dtype ='uint8')\n",
    "font = cv2.FONT_HERSHEY_SIMPLEX\n",
    "cv2.putText(img,'M.Rajeshkannan',(15,200),font,5,(255),10,cv2.LINE_AA)\n",
    "cv2.imshow('created_text',img)\n",
    "cv2.waitKey(0)\n",
    "cv2.destroyAllWindows()"
   ]
  },
  {
   "cell_type": "code",
   "execution_count": 112,
   "id": "6dedfa14",
   "metadata": {},
   "outputs": [],
   "source": [
    "erode1= np.ones((5,5),np.uint8)\n",
    "image_erode1  = cv2.erode(img,erode1)\n",
    "cv2.imshow('Eroded_image_1',image_erode1)\n",
    "cv2.waitKey(0)\n",
    "cv2.destroyAllWindows()"
   ]
  },
  {
   "cell_type": "code",
   "execution_count": 113,
   "id": "d6b11330",
   "metadata": {},
   "outputs": [],
   "source": [
    "erode2 = cv2.getStructuringElement(cv2.MORPH_CROSS,(12,12))\n",
    "image_erode2  = cv2.erode(img,erode2)\n",
    "cv2.imshow('Eroded_image_2',image_erode2)\n",
    "cv2.waitKey(0)\n",
    "cv2.destroyAllWindows()"
   ]
  },
  {
   "cell_type": "code",
   "execution_count": 86,
   "id": "98d5b47b",
   "metadata": {},
   "outputs": [],
   "source": [
    "## Erosion in color text"
   ]
  },
  {
   "cell_type": "code",
   "execution_count": 87,
   "id": "d60c1760",
   "metadata": {},
   "outputs": [],
   "source": [
    "import cv2\n",
    "import numpy as np"
   ]
  },
  {
   "cell_type": "code",
   "execution_count": 94,
   "id": "aa42167d",
   "metadata": {},
   "outputs": [],
   "source": [
    "img= np.zeros((350,1400),dtype ='uint8')\n",
    "color  = cv2.cvtColor(img , cv2.COLOR_BGR2RGB)\n",
    "font = cv2.FONT_HERSHEY_SIMPLEX\n",
    "cv2.putText(color,'M.Rajeshkannan',(15,200),font,5,(100,0,255),10,cv2.LINE_AA)\n",
    "cv2.imshow('created_text',color)\n",
    "cv2.waitKey(0)\n",
    "cv2.destroyAllWindows()"
   ]
  },
  {
   "cell_type": "code",
   "execution_count": 95,
   "id": "9d271082",
   "metadata": {},
   "outputs": [],
   "source": [
    "erode1= np.ones((5,5),np.uint8)\n",
    "image_erode1  = cv2.erode(color,erode1)\n",
    "cv2.imshow('Eroded_image_1',image_erode1)\n",
    "cv2.waitKey(0)\n",
    "cv2.destroyAllWindows()"
   ]
  },
  {
   "cell_type": "code",
   "execution_count": 96,
   "id": "b8cedfa3",
   "metadata": {},
   "outputs": [],
   "source": [
    "erode2 = cv2.getStructuringElement(cv2.MORPH_CROSS,(10,10))\n",
    "image_erode2  = cv2.erode(color,erode2)\n",
    "cv2.imshow('Eroded_image_2',image_erode2)\n",
    "cv2.waitKey(0)\n",
    "cv2.destroyAllWindows()"
   ]
  },
  {
   "cell_type": "code",
   "execution_count": null,
   "id": "947d0764",
   "metadata": {},
   "outputs": [],
   "source": [
    "## Dilation in Gray scale text"
   ]
  },
  {
   "cell_type": "code",
   "execution_count": 100,
   "id": "fde87d86",
   "metadata": {},
   "outputs": [],
   "source": [
    "import cv2\n",
    "import numpy as np"
   ]
  },
  {
   "cell_type": "code",
   "execution_count": 103,
   "id": "8a851922",
   "metadata": {},
   "outputs": [],
   "source": [
    "img= np.zeros((350,1400),dtype ='uint8')\n",
    "font = cv2.FONT_HERSHEY_SIMPLEX\n",
    "cv2.putText(img,'M.Rajeshkannan',(15,200),font,5,(255),5,cv2.LINE_AA)\n",
    "cv2.imshow('created_text',img)\n",
    "cv2.waitKey(0)\n",
    "cv2.destroyAllWindows()"
   ]
  },
  {
   "cell_type": "code",
   "execution_count": 114,
   "id": "dc10e710",
   "metadata": {},
   "outputs": [],
   "source": [
    "dilate1= np.ones((5,5),np.uint8)\n",
    "image_dilate1  = cv2.dilate(img,dilate1)\n",
    "cv2.imshow('Dilated_image_1',image_dilate1)\n",
    "cv2.waitKey(0)\n",
    "cv2.destroyAllWindows()"
   ]
  },
  {
   "cell_type": "code",
   "execution_count": 115,
   "id": "5d438208",
   "metadata": {},
   "outputs": [],
   "source": [
    "dilate2 = cv2.getStructuringElement(cv2.MORPH_CROSS,(12,12))\n",
    "image_dilated2  = cv2.dilate(img,dilate2)\n",
    "cv2.imshow('Dilated_image_2',image_dilated2)\n",
    "cv2.waitKey(0)\n",
    "cv2.destroyAllWindows()"
   ]
  },
  {
   "cell_type": "code",
   "execution_count": null,
   "id": "672cf677",
   "metadata": {},
   "outputs": [],
   "source": [
    "## Dilation in color text"
   ]
  },
  {
   "cell_type": "code",
   "execution_count": 106,
   "id": "8667ef59",
   "metadata": {},
   "outputs": [],
   "source": [
    "import cv2\n",
    "import numpy as np"
   ]
  },
  {
   "cell_type": "code",
   "execution_count": 107,
   "id": "69c545c2",
   "metadata": {},
   "outputs": [],
   "source": [
    "img= np.zeros((350,1400),dtype ='uint8')\n",
    "color  = cv2.cvtColor(img , cv2.COLOR_BGR2RGB)\n",
    "font = cv2.FONT_HERSHEY_SIMPLEX\n",
    "cv2.putText(color,'M.Rajeshkannan',(15,200),font,5,(100,0,255),10,cv2.LINE_AA)\n",
    "cv2.imshow('created_text',color)\n",
    "cv2.waitKey(0)\n",
    "cv2.destroyAllWindows()"
   ]
  },
  {
   "cell_type": "code",
   "execution_count": 108,
   "id": "1a0fe935",
   "metadata": {},
   "outputs": [],
   "source": [
    "dilate1= np.ones((5,5),np.uint8)\n",
    "image_dilate1  = cv2.dilate(color,dilate1)\n",
    "cv2.imshow('Dilated_image_1',image_dilate1)\n",
    "cv2.waitKey(0)\n",
    "cv2.destroyAllWindows()"
   ]
  },
  {
   "cell_type": "code",
   "execution_count": 109,
   "id": "00731fe8",
   "metadata": {},
   "outputs": [],
   "source": [
    "dilate2 = cv2.getStructuringElement(cv2.MORPH_CROSS,(12,12))\n",
    "image_dilated2  = cv2.dilate(color,dilate2)\n",
    "cv2.imshow('Dilated_image_2',image_dilated2)\n",
    "cv2.waitKey(0)\n",
    "cv2.destroyAllWindows()"
   ]
  },
  {
   "cell_type": "code",
   "execution_count": null,
   "id": "fe7e50fe",
   "metadata": {},
   "outputs": [],
   "source": []
  }
 ],
 "metadata": {
  "kernelspec": {
   "display_name": "Python 3",
   "language": "python",
   "name": "python3"
  },
  "language_info": {
   "codemirror_mode": {
    "name": "ipython",
    "version": 3
   },
   "file_extension": ".py",
   "mimetype": "text/x-python",
   "name": "python",
   "nbconvert_exporter": "python",
   "pygments_lexer": "ipython3",
   "version": "3.8.8"
  }
 },
 "nbformat": 4,
 "nbformat_minor": 5
}
