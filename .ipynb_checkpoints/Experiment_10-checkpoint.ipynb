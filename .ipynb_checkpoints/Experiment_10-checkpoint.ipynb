{
 "cells": [
  {
   "cell_type": "code",
   "execution_count": 44,
   "id": "a2e8c70c",
   "metadata": {},
   "outputs": [],
   "source": [
    "## Erosion in Gray scale image"
   ]
  },
  {
   "cell_type": "code",
   "execution_count": 77,
   "id": "4e6a95aa",
   "metadata": {},
   "outputs": [],
   "source": [
    "import cv2\n",
    "import numpy as np"
   ]
  },
  {
   "cell_type": "code",
   "execution_count": 81,
   "id": "3008a9b4",
   "metadata": {},
   "outputs": [],
   "source": [
    "img= np.zeros((350,1400),dtype ='uint8')\n",
    "font = cv2.FONT_HERSHEY_SIMPLEX\n",
    "cv2.putText(img,'M.Rajeshkannan',(15,200),font,5,(255),10,cv2.LINE_AA)\n",
    "cv2.imshow('created_text',img)\n",
    "cv2.waitKey(0)\n",
    "cv2.destroyAllWindows()"
   ]
  },
  {
   "cell_type": "code",
   "execution_count": 82,
   "id": "c6a3b5b4",
   "metadata": {},
   "outputs": [],
   "source": [
    "erode1= np.ones((5,5),np.uint8)\n",
    "image_erode1  = cv2.erode(img,erode1)\n",
    "cv2.imshow('Eroded_image_1',image_erode1)\n",
    "cv2.waitKey(0)\n",
    "cv2.destroyAllWindows()"
   ]
  },
  {
   "cell_type": "code",
   "execution_count": 85,
   "id": "e68b92f3",
   "metadata": {},
   "outputs": [],
   "source": [
    "erode2 = cv2.getStructuringElement(cv2.MORPH_CROSS,(12,12))\n",
    "image_erode2  = cv2.erode(img,erode2)\n",
    "cv2.imshow('Eroded_image_2',image_erode2)\n",
    "cv2.waitKey(0)\n",
    "cv2.destroyAllWindows()"
   ]
  },
  {
   "cell_type": "code",
   "execution_count": 86,
   "id": "9d0a5b14",
   "metadata": {},
   "outputs": [],
   "source": [
    "## Erosion in color image"
   ]
  },
  {
   "cell_type": "code",
   "execution_count": 87,
   "id": "b3467a8b",
   "metadata": {},
   "outputs": [],
   "source": [
    "import cv2\n",
    "import numpy as np"
   ]
  },
  {
   "cell_type": "code",
   "execution_count": 94,
   "id": "3f2aeb79",
   "metadata": {},
   "outputs": [],
   "source": [
    "img= np.zeros((350,1400),dtype ='uint8')\n",
    "color  = cv2.cvtColor(img , cv2.COLOR_BGR2RGB)\n",
    "font = cv2.FONT_HERSHEY_SIMPLEX\n",
    "cv2.putText(color,'M.Rajeshkannan',(15,200),font,5,(100,0,255),10,cv2.LINE_AA)\n",
    "cv2.imshow('created_text',color)\n",
    "cv2.waitKey(0)\n",
    "cv2.destroyAllWindows()"
   ]
  },
  {
   "cell_type": "code",
   "execution_count": 95,
   "id": "41bd4f91",
   "metadata": {},
   "outputs": [],
   "source": [
    "erode1= np.ones((5,5),np.uint8)\n",
    "image_erode1  = cv2.erode(color,erode1)\n",
    "cv2.imshow('Eroded_image_1',image_erode1)\n",
    "cv2.waitKey(0)\n",
    "cv2.destroyAllWindows()"
   ]
  },
  {
   "cell_type": "code",
   "execution_count": 96,
   "id": "83f8597c",
   "metadata": {},
   "outputs": [],
   "source": [
    "erode2 = cv2.getStructuringElement(cv2.MORPH_CROSS,(10,10))\n",
    "image_erode2  = cv2.erode(color,erode2)\n",
    "cv2.imshow('Eroded_image_2',image_erode2)\n",
    "cv2.waitKey(0)\n",
    "cv2.destroyAllWindows()"
   ]
  },
  {
   "cell_type": "code",
   "execution_count": null,
   "id": "fcf41986",
   "metadata": {},
   "outputs": [],
   "source": [
    "## Dilation in Gray scale image"
   ]
  },
  {
   "cell_type": "code",
   "execution_count": null,
   "id": "13fec446",
   "metadata": {},
   "outputs": [],
   "source": [
    "import cv2\n",
    "import numpy as np"
   ]
  },
  {
   "cell_type": "code",
   "execution_count": null,
   "id": "c7b3f011",
   "metadata": {},
   "outputs": [],
   "source": [
    "img= np.zeros((350,1400),dtype ='uint8')\n",
    "font = cv2.FONT_HERSHEY_SIMPLEX\n",
    "cv2.putText(img,'M.Rajeshkannan',(15,200),font,5,(255),10,cv2.LINE_AA)\n",
    "cv2.imshow('created_text',img)\n",
    "cv2.waitKey(0)\n",
    "cv2.destroyAllWindows()"
   ]
  },
  {
   "cell_type": "code",
   "execution_count": null,
   "id": "56d153ba",
   "metadata": {},
   "outputs": [],
   "source": []
  }
 ],
 "metadata": {
  "kernelspec": {
   "display_name": "Python 3",
   "language": "python",
   "name": "python3"
  },
  "language_info": {
   "codemirror_mode": {
    "name": "ipython",
    "version": 3
   },
   "file_extension": ".py",
   "mimetype": "text/x-python",
   "name": "python",
   "nbconvert_exporter": "python",
   "pygments_lexer": "ipython3",
   "version": "3.8.8"
  }
 },
 "nbformat": 4,
 "nbformat_minor": 5
}
